{
 "cells": [
  {
   "cell_type": "markdown",
   "id": "c289415b-cab2-4948-9f7c-1534a6204fcd",
   "metadata": {},
   "source": [
    "# Setup"
   ]
  },
  {
   "cell_type": "markdown",
   "id": "cb5fd468-26cb-498b-ab15-fbc008ac7f29",
   "metadata": {},
   "source": [
    "## Imports"
   ]
  },
  {
   "cell_type": "code",
   "execution_count": null,
   "id": "0ea325ca-a12c-4089-85c1-76264107cdbb",
   "metadata": {},
   "outputs": [],
   "source": [
    "import copy\n",
    "import numpy as np\n",
    "import os\n",
    "import pandas as pd\n",
    "import tqdm"
   ]
  },
  {
   "cell_type": "code",
   "execution_count": null,
   "id": "d2c1543e-1f25-4fa3-9b73-377910213e93",
   "metadata": {},
   "outputs": [],
   "source": [
    "import cartopy.crs as ccrs"
   ]
  },
  {
   "cell_type": "code",
   "execution_count": null,
   "id": "1c0d7160-432f-4952-b293-34e863232545",
   "metadata": {
    "tags": []
   },
   "outputs": [],
   "source": [
    "import yt\n",
    "import unyt\n",
    "import trident"
   ]
  },
  {
   "cell_type": "code",
   "execution_count": null,
   "id": "b3260d4a-e565-4c73-b9a1-376618f30ed4",
   "metadata": {},
   "outputs": [],
   "source": [
    "import matplotlib\n",
    "import matplotlib.pyplot as plt\n",
    "import palettable"
   ]
  },
  {
   "cell_type": "code",
   "execution_count": null,
   "id": "784afccf-cdd7-4976-90f6-6fbfdf6503ec",
   "metadata": {},
   "outputs": [],
   "source": [
    "import verdict\n",
    "import trove\n",
    "import helpers"
   ]
  },
  {
   "cell_type": "markdown",
   "id": "9ef7300d-dbe3-4582-b6b5-891cd4477c59",
   "metadata": {},
   "source": [
    "## Parameters"
   ]
  },
  {
   "cell_type": "code",
   "execution_count": null,
   "id": "40e1deba-4e93-4d8d-a734-d80d9dcee6f9",
   "metadata": {},
   "outputs": [],
   "source": [
    "snr = 30"
   ]
  },
  {
   "cell_type": "code",
   "execution_count": null,
   "id": "10a192de-01b5-4a25-97c3-ba981062f8cf",
   "metadata": {},
   "outputs": [],
   "source": [
    "pm = trove.link_params_to_config(\n",
    "    helpers.CONFIG,\n",
    "    script_id = 'nb.2',\n",
    "    variation = 'm12i_md',\n",
    ")"
   ]
  },
  {
   "cell_type": "code",
   "execution_count": null,
   "id": "6da0bc7a-d584-421a-b710-1566eb3ff696",
   "metadata": {},
   "outputs": [],
   "source": [
    "qual_colors = palettable.cartocolors.qualitative.Vivid_10.mpl_colors"
   ]
  },
  {
   "cell_type": "code",
   "execution_count": null,
   "id": "d47807ae-5eb2-47a1-9c05-e45ed91c52ba",
   "metadata": {},
   "outputs": [],
   "source": [
    "sim = pm['variation']\n",
    "ions = pm['ions']"
   ]
  },
  {
   "cell_type": "markdown",
   "id": "c75c2705-dafb-4231-be5c-a54f34f747b5",
   "metadata": {},
   "source": [
    "## Load Halo Data"
   ]
  },
  {
   "cell_type": "code",
   "execution_count": null,
   "id": "39f7e81b-8331-448d-bc0a-10e307e5316b",
   "metadata": {},
   "outputs": [],
   "source": [
    "halo_catalog_fn = 'halo_{}.hdf5'.format( pm['snum'] )\n",
    "halo_catalog_fp = os.path.join( pm['rockstar_data_dir'], halo_catalog_fn )"
   ]
  },
  {
   "cell_type": "code",
   "execution_count": null,
   "id": "2eb92c91-7360-4a56-857f-d19e8bf921ae",
   "metadata": {},
   "outputs": [],
   "source": [
    "halo_data = verdict.Dict.from_hdf5( halo_catalog_fp )\n",
    "index = halo_data['mass'].argmax()\n",
    "center_ckpc = halo_data['position'][index]\n",
    "center = center_ckpc / ( 1. + halo_data['snapshot:redshift'] )"
   ]
  },
  {
   "cell_type": "markdown",
   "id": "c6e89c89-4fbf-48bd-a092-9d40028f892e",
   "metadata": {},
   "source": [
    "## Load Simulation Data"
   ]
  },
  {
   "cell_type": "code",
   "execution_count": null,
   "id": "0435903c-6993-490f-9380-5802853cdafe",
   "metadata": {},
   "outputs": [],
   "source": [
    "yt_sim_fp = os.path.join( pm['sim_data_dir'], 'snapdir_{:03d}'.format( pm['snum'] ) )\n",
    "ds = yt.load( yt_sim_fp )"
   ]
  },
  {
   "cell_type": "code",
   "execution_count": null,
   "id": "891bde46-1364-45a6-b166-03a0f082cca7",
   "metadata": {},
   "outputs": [],
   "source": [
    "kpc = ds.quan( 1, 'kpc' )"
   ]
  },
  {
   "cell_type": "markdown",
   "id": "30630ec8-f555-4645-a009-fc2cc4c6503c",
   "metadata": {},
   "source": [
    "## Load Processed Data"
   ]
  },
  {
   "cell_type": "code",
   "execution_count": null,
   "id": "d232799d-1a7b-4529-8c00-28f72fc914f2",
   "metadata": {},
   "outputs": [],
   "source": [
    "data_fp = os.path.join( pm['processed_data_dir'], 'data.h5' )\n",
    "data = verdict.Dict.from_hdf5( data_fp, create_nonexistent=True )"
   ]
  },
  {
   "cell_type": "markdown",
   "id": "d950f481-f6c0-4c11-9bb4-67b715866a87",
   "metadata": {},
   "source": [
    "# Make an On-Sky Map"
   ]
  },
  {
   "cell_type": "markdown",
   "id": "4dcc2d37-4284-439b-a5db-ef7cdb3dcf0d",
   "metadata": {},
   "source": [
    "## Get Sky Frame Coords"
   ]
  },
  {
   "cell_type": "code",
   "execution_count": null,
   "id": "1f94d85b-51fe-4200-834b-628df7039ab7",
   "metadata": {},
   "outputs": [],
   "source": [
    "sun_position = data[sim]['end'] * kpc"
   ]
  },
  {
   "cell_type": "code",
   "execution_count": null,
   "id": "8c947fa1-4895-4708-94a8-88494ce0470a",
   "metadata": {},
   "outputs": [],
   "source": [
    "def convert_to_galactic_frame( raw_position ):\n",
    "    \n",
    "    position = raw_position - sun_position\n",
    "    r = np.linalg.norm( position, axis=1 )\n",
    "    \n",
    "    position_galactic = np.array([\n",
    "        np.dot( position, data[sim]['galactic_frame']['xhat'] ),\n",
    "        np.dot( position, data[sim]['galactic_frame']['yhat'] ),\n",
    "        np.dot( position, data[sim]['galactic_frame']['zhat'] ),\n",
    "    ])\n",
    "    \n",
    "    phi = np.arctan2( position_galactic[1], position_galactic[0] )\n",
    "    theta = np.arccos( position_galactic[2] / r )\n",
    "    \n",
    "    return position_galactic.transpose(), phi, theta"
   ]
  },
  {
   "cell_type": "markdown",
   "id": "efa06fd3-a02c-4001-a3d5-3f2b4331ab96",
   "metadata": {},
   "source": [
    "### Simulation Data"
   ]
  },
  {
   "cell_type": "code",
   "execution_count": null,
   "id": "d9100c5d-2b74-4cf5-b47b-ca05ef3a363b",
   "metadata": {},
   "outputs": [],
   "source": [
    "# Add ion fields\n",
    "trident.ion_balance.add_ion_fields( ds, ions )"
   ]
  },
  {
   "cell_type": "code",
   "execution_count": null,
   "id": "3f795190-e40a-47e2-8377-b0b02a65a7ad",
   "metadata": {},
   "outputs": [],
   "source": [
    "# Ion units, names, and internal names\n",
    "ldb = trident.line_database.LineDatabase( 'lines.txt' )\n",
    "number_densities_to_include = [ ( 'gas', '{}_p{}_number_density'.format( atom, lev-1 ) ) for atom, lev in ldb.parse_subset_to_ions( ions ) ]\n",
    "number_density_units = [ 'log(cm**-3)', ] * len( number_densities_to_include )\n",
    "number_density_names = [ 'log{}density'.format( _.replace( ' ', '' ) ) for _ in ions ]"
   ]
  },
  {
   "cell_type": "code",
   "execution_count": null,
   "id": "aae72c45-68bc-49cf-9284-d1c2643ab226",
   "metadata": {},
   "outputs": [],
   "source": [
    "sp = ds.sphere( sun_position, (2. * halo_data['radius'][index], \"kpc\") )"
   ]
  },
  {
   "cell_type": "code",
   "execution_count": null,
   "id": "91e82479-c5d5-4c7c-a3c9-72ed46bf1d8e",
   "metadata": {},
   "outputs": [],
   "source": [
    "position_galactic, phi_galactic, theta_galactic = convert_to_galactic_frame( sp[('gas', 'position')].to( 'kpc' ) )"
   ]
  },
  {
   "cell_type": "markdown",
   "id": "6c14063a-c2dc-4234-ad69-b5e8b9299d94",
   "metadata": {},
   "source": [
    "### Sightlines"
   ]
  },
  {
   "cell_type": "code",
   "execution_count": null,
   "id": "9e43d21a-32fc-4e91-aa74-bf8acd794add",
   "metadata": {},
   "outputs": [],
   "source": [
    "position_galactic_sl, phi_sl, theta_sl = convert_to_galactic_frame( data['m12i_md']['start'] * kpc, )"
   ]
  },
  {
   "cell_type": "code",
   "execution_count": null,
   "id": "485ef70c-7107-4337-8cff-2ba2db33127f",
   "metadata": {},
   "outputs": [],
   "source": [
    "ra_sl = 360 - phi_sl * 180. / np.pi\n",
    "dec_sl = - ( theta_sl - np.pi / 2. ) * 180. / np.pi"
   ]
  },
  {
   "cell_type": "markdown",
   "id": "24c15497-83c1-4f42-b1c9-1c629a82de79",
   "metadata": {},
   "source": [
    "## Spectra Properties"
   ]
  },
  {
   "cell_type": "code",
   "execution_count": null,
   "id": "983b8993-9c13-4882-8fc7-88fc54f31004",
   "metadata": {},
   "outputs": [],
   "source": [
    "observables_fp = os.path.join( pm['data_dir'], 'sightlines', 'observables.h5' )\n",
    "observables_data = verdict.Dict.from_hdf5( observables_fp, )"
   ]
  },
  {
   "cell_type": "code",
   "execution_count": null,
   "id": "1a0dd74f-d0b8-406d-b069-5af402eb0f60",
   "metadata": {},
   "outputs": [],
   "source": [
    "ews = []\n",
    "column_densities = verdict.Dict({})\n",
    "for i, start in enumerate( data[sim]['start'] ):\n",
    "\n",
    "    spectra_fp = os.path.join( pm['data_dir'], 'sightlines', 'spectrum_{:03d}.h5'.format( i ) )\n",
    "    spectra_data = verdict.Dict.from_hdf5( spectra_fp )\n",
    "\n",
    "    w = (1. - np.exp( -spectra_data['tau'] ) )\n",
    "    ew = w.sum()\n",
    "    \n",
    "    i_key = '{:03d}'.format( i )\n",
    "    for j, ion in enumerate( ions ):\n",
    "        if ion == 'H I':\n",
    "            line = 'Ly a'\n",
    "        else:\n",
    "            ldb.lines_subset = []\n",
    "            lines = ldb.parse_subset( ion )\n",
    "            line = lines[0].name\n",
    "        colden = observables_data[i_key][line]['column_density'].sum()\n",
    "        column_densities.setitem( ion, colden, i_key )\n",
    "    \n",
    "    ews.append( ew )"
   ]
  },
  {
   "cell_type": "markdown",
   "id": "fda93ff5-5d53-4efe-a46b-a331b378413f",
   "metadata": {},
   "source": [
    "## Plotted Properties"
   ]
  },
  {
   "cell_type": "markdown",
   "id": "cbf600b3-ff8f-4724-9894-a444b60d362f",
   "metadata": {},
   "source": [
    "### LoS velocity"
   ]
  },
  {
   "cell_type": "code",
   "execution_count": null,
   "id": "7202f5f0-f714-45f1-bf32-6e80186cdea7",
   "metadata": {},
   "outputs": [],
   "source": [
    "# Relative velocity to sun, but not rotated to galactic coordinates\n",
    "velocity_relative = ( sp[('gas', 'velocity')] - ( data[sim]['galaxy_velocity'] + data[sim]['sun_relative_velocity'] ) * unyt.km / unyt.s ).to( 'km/s' )"
   ]
  },
  {
   "cell_type": "code",
   "execution_count": null,
   "id": "ee86aaa4-7a4f-4d29-9f07-973ecc82b126",
   "metadata": {},
   "outputs": [],
   "source": [
    "position_relative = ( sp[( 'gas', 'position' )] - sun_position ).to( 'kpc' )\n",
    "r = np.linalg.norm( position_relative, axis=1 )\n",
    "velocity_los = -np.einsum( 'ij,ij->i', position_relative, velocity_relative ) / r"
   ]
  },
  {
   "cell_type": "markdown",
   "id": "695789e6-74e0-4127-86dd-e156cc56a990",
   "metadata": {},
   "source": [
    "### Velocity magnitude\n",
    "Relative to center of galaxy"
   ]
  },
  {
   "cell_type": "code",
   "execution_count": null,
   "id": "d1440f79-0912-4b49-8270-40cdd75da155",
   "metadata": {},
   "outputs": [],
   "source": [
    "velocity = ( sp[('gas', 'velocity')] - ( data[sim]['galaxy_velocity'] ) * unyt.km / unyt.s ).to( 'km/s' )\n",
    "vmag = np.linalg.norm( velocity, axis=1 )"
   ]
  },
  {
   "cell_type": "markdown",
   "id": "8526542b-93ef-4398-9450-70e91ca81498",
   "metadata": {},
   "source": [
    "### Test"
   ]
  },
  {
   "cell_type": "code",
   "execution_count": null,
   "id": "03d033ca-b298-4756-8033-8e912e55311d",
   "metadata": {},
   "outputs": [],
   "source": [
    "r_sp = sp.radius.to( 'kpc' )\n",
    "positions_test = np.random.uniform( -r_sp, r_sp, ( 10**6, 3 ) )\n",
    "r_test = np.linalg.norm( positions_test, axis=1 )\n",
    "positions_test = positions_test[r_test<r_sp]\n",
    "r_test = r_test[r_test<r_sp]\n",
    "phi_test = np.arctan2( positions_test[:,1], positions_test[:,0] )\n",
    "theta_test = np.arccos( positions_test[:,2] / r_test )"
   ]
  },
  {
   "cell_type": "markdown",
   "id": "ba302b72-5020-4199-abd4-ef4b806ed403",
   "metadata": {},
   "source": [
    "### Finalize"
   ]
  },
  {
   "cell_type": "code",
   "execution_count": null,
   "id": "6d46ba94-8552-43ed-af88-c6e0c9dbe75f",
   "metadata": {},
   "outputs": [],
   "source": [
    "plot_types = {\n",
    "    'mass-weighted': {\n",
    "        'weights': sp[('gas', 'mass')].to( 'Msun' ),\n",
    "    },\n",
    "    'LOS velocity': {\n",
    "        'weights': sp[('gas', 'mass')].to( 'Msun' ),\n",
    "        'color_axis': velocity_los,\n",
    "        'cmap': 'bwr_r',\n",
    "        'vmin': -halo_data['vel.circ.max'][index] * 2.,\n",
    "        'vmax': halo_data['vel.circ.max'][index] * 2.,\n",
    "        'norm': None,\n",
    "    },\n",
    "    'velocity magnitude': {\n",
    "        'weights': sp[('gas', 'mass')].to( 'Msun' ),\n",
    "        'color_axis': vmag,\n",
    "        'cmap': 'PRGn',\n",
    "        'vmin': 0,\n",
    "        'vmax': np.linalg.norm( data[sim]['sun_relative_velocity'] ) * 2.,\n",
    "        'norm': None,\n",
    "    },\n",
    "    # 'test': {\n",
    "    #     'phi': phi_test,\n",
    "    #     'theta': theta_test,\n",
    "    # }\n",
    "}"
   ]
  },
  {
   "cell_type": "code",
   "execution_count": null,
   "id": "9a8dac47-e071-4c9e-99f0-8378192cde72",
   "metadata": {},
   "outputs": [],
   "source": [
    "for i, ion in enumerate( tqdm.tqdm( ions ) ):\n",
    "    key = '{}-weighted'.format( ion )\n",
    "    params = {\n",
    "        'weights': sp[number_densities_to_include[i]],\n",
    "        'los color': column_densities[ion].array(),\n",
    "        'vmin': 1e-15,\n",
    "    }\n",
    "    plot_types[key] = params"
   ]
  },
  {
   "cell_type": "markdown",
   "id": "b24bfdfe-aeda-4f69-841e-d5e679461845",
   "metadata": {},
   "source": [
    "## Plot"
   ]
  },
  {
   "cell_type": "code",
   "execution_count": null,
   "id": "1e75851e-52bf-4bf8-97e5-9093c7877a6b",
   "metadata": {},
   "outputs": [],
   "source": [
    "proj = ccrs.Mollweide()\n",
    "img_proj = ccrs.PlateCarree()"
   ]
  },
  {
   "cell_type": "code",
   "execution_count": null,
   "id": "83b0f70c-3486-4731-9507-8922bd3fb04c",
   "metadata": {},
   "outputs": [],
   "source": [
    "def plot_projected_hist(\n",
    "    ax,\n",
    "    phi=phi_galactic,\n",
    "    theta=theta_galactic,\n",
    "    weights=None,\n",
    "    color_axis=None,\n",
    "    cmap=matplotlib.cm.cubehelix_r,\n",
    "    vmin=None,\n",
    "    vmax=None,\n",
    "    norm=matplotlib.colors.LogNorm(),\n",
    "    n_bins=256,\n",
    "):\n",
    "    \n",
    "    ra_edges = np.linspace( -np.pi, np.pi, n_bins )\n",
    "    cosdec_edges = np.linspace( -1, 1, n_bins )\n",
    "\n",
    "    # Make the histogram\n",
    "    hist2d, ra_edges, da_edges = np.histogram2d(\n",
    "        phi,\n",
    "        np.cos( theta ),\n",
    "        bins = [ ra_edges, cosdec_edges ],\n",
    "        weights = weights,\n",
    "    )\n",
    "    if color_axis is None:\n",
    "        # Turn into a PDF\n",
    "        hist_norm = hist2d.sum() * ( ra_edges[1] - ra_edges[0] ) * ( cosdec_edges[1] - cosdec_edges[0] )\n",
    "        hist2d /= hist_norm\n",
    "    else:\n",
    "        hist2d_prop, ra_edges, da_edges = np.histogram2d(\n",
    "            phi,\n",
    "            np.cos( theta ),\n",
    "            bins = [ ra_edges, cosdec_edges ],\n",
    "            weights = weights * color_axis,\n",
    "        ) \n",
    "        hist2d = hist2d_prop / hist2d\n",
    "\n",
    "    # # Upsample and smooth\n",
    "    # if upsample is not None:\n",
    "    #     hist2d = scipy.ndimage.zoom( hist2d, upsample )\n",
    "    #     ra_edges = np.linspace( -np.pi, np.pi, ( n_bins - 1)*upsample + 1 )\n",
    "    #     cosdec_edges = np.linspace( -1, 1, ( n_bins - 1)*upsample + 1 )\n",
    "    # if smooth is not None:\n",
    "    #     if upsample is not None:                                                   \n",
    "    #         sigma = upsample * smooth\n",
    "    #     else:\n",
    "    #         sigma = smooth\n",
    "    #     hist2d = scipy.ndimage.filters.gaussian_filter( hist2d, sigma )\n",
    "\n",
    "    # Get centers\n",
    "    ra_centers = 360 - 0.5 * ( ra_edges[1:] + ra_edges[:-1] ) * 180. / np.pi\n",
    "    dec_edges =  np.pi / 2. - np.arccos( cosdec_edges )\n",
    "    dec_edges *= 180. / np.pi\n",
    "    dec_centers = 0.5 * ( dec_edges[1:] + dec_edges[:-1] )\n",
    "\n",
    "    img = ax.pcolormesh(\n",
    "        ra_centers,\n",
    "        dec_centers,\n",
    "        hist2d.transpose(),\n",
    "        transform = img_proj,\n",
    "        cmap = cmap,\n",
    "        shading = 'nearest',\n",
    "        vmin = vmin,\n",
    "        vmax = vmax,\n",
    "        norm = norm,\n",
    "    )\n",
    "    \n",
    "    return hist2d, img"
   ]
  },
  {
   "cell_type": "code",
   "execution_count": null,
   "id": "b8d92500-3345-4a53-9db4-f0f0f797c9fc",
   "metadata": {},
   "outputs": [],
   "source": [
    "projection_dir = os.path.join( pm['figure_dir'], 'projections' )\n",
    "os.makedirs( projection_dir, exist_ok=True )"
   ]
  },
  {
   "cell_type": "code",
   "execution_count": null,
   "id": "97d2ae03-1f0d-4a94-b38d-28cb8c2059a1",
   "metadata": {},
   "outputs": [],
   "source": [
    "for key, plot_params in tqdm.tqdm( plot_types.items() ):\n",
    "    \n",
    "#     if not key in [ 'LOS velocity', 'velocity magnitude' ]:\n",
    "#         continue\n",
    "\n",
    "    width = pm['figure_width'] * 2\n",
    "    height = width / 2.5\n",
    "    fig = plt.figure( figsize=(width,height), facecolor='w' )\n",
    "    ax = plt.axes( projection=proj )\n",
    "    \n",
    "    if 'los color' in plot_params:\n",
    "        c = copy.copy( plot_params['los color'] )\n",
    "        del plot_params['los color']\n",
    "        s_colorbar = True\n",
    "    else:\n",
    "        c = 'k'\n",
    "        s_colorbar = False\n",
    "    \n",
    "    hist2d, img = plot_projected_hist( ax, **plot_params )\n",
    "\n",
    "    s = ax.scatter(\n",
    "        ra_sl,\n",
    "        dec_sl,\n",
    "        transform = img_proj,\n",
    "        c = c,\n",
    "        cmap = 'viridis',\n",
    "        norm = matplotlib.colors.LogNorm(),\n",
    "    )\n",
    "    \n",
    "    ax.annotate(\n",
    "        s = key,\n",
    "        xy = ( 0, 1 ),\n",
    "        xytext = ( 5, -5 ),\n",
    "        xycoords = 'axes fraction',\n",
    "        textcoords = 'offset points',\n",
    "        fontsize = pm['footnote_fontsize'],\n",
    "        ha = 'left',\n",
    "        va = 'top',\n",
    "    )\n",
    "    \n",
    "    plt.colorbar( img )\n",
    "    if s_colorbar:\n",
    "        plt.colorbar( s )\n",
    "    \n",
    "    ax.gridlines( color='0.6', )\n",
    "    \n",
    "    plt.tight_layout()\n",
    "        \n",
    "    projection_fn = key.replace( ' ', '_' ) + '.png'\n",
    "    projection_fp = os.path.join( projection_dir, projection_fn )\n",
    "    plt.savefig( projection_fp, dpi=300 )\n",
    "        "
   ]
  },
  {
   "cell_type": "code",
   "execution_count": null,
   "id": "d6fc7bd3-49a9-4e0e-8024-d49b3e118ef6",
   "metadata": {},
   "outputs": [],
   "source": []
  }
 ],
 "metadata": {
  "kernelspec": {
   "display_name": "Python 3 (ipykernel)",
   "language": "python",
   "name": "python3"
  },
  "language_info": {
   "codemirror_mode": {
    "name": "ipython",
    "version": 3
   },
   "file_extension": ".py",
   "mimetype": "text/x-python",
   "name": "python",
   "nbconvert_exporter": "python",
   "pygments_lexer": "ipython3",
   "version": "3.10.4"
  }
 },
 "nbformat": 4,
 "nbformat_minor": 5
}
