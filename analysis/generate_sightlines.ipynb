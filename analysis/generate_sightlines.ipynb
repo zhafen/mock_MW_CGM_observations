{
 "cells": [
  {
   "cell_type": "markdown",
   "id": "1df7d2eb-385f-42c9-bd99-08e14915bd39",
   "metadata": {},
   "source": [
    "# Setup"
   ]
  },
  {
   "cell_type": "markdown",
   "id": "f3aaa17d-741a-45cc-94bf-a9b81abee26e",
   "metadata": {},
   "source": [
    "## Imports"
   ]
  },
  {
   "cell_type": "code",
   "execution_count": null,
   "id": "5a4787b4-07a9-40fa-9cea-31411e8d6bec",
   "metadata": {},
   "outputs": [],
   "source": [
    "import contextlib\n",
    "import io\n",
    "import numpy as np\n",
    "import os\n",
    "import pandas as pd"
   ]
  },
  {
   "cell_type": "code",
   "execution_count": null,
   "id": "bfa883c7-c4ec-4b07-926a-14b11527f192",
   "metadata": {},
   "outputs": [],
   "source": [
    "import cartopy.crs as ccrs"
   ]
  },
  {
   "cell_type": "code",
   "execution_count": null,
   "id": "11b2533d-985e-4241-9ab9-8f3e7a54f72a",
   "metadata": {
    "tags": []
   },
   "outputs": [],
   "source": [
    "import yt\n",
    "import unyt\n",
    "import trident"
   ]
  },
  {
   "cell_type": "code",
   "execution_count": null,
   "id": "86297a21-c9a5-403c-a877-084a16f3160f",
   "metadata": {},
   "outputs": [],
   "source": [
    "import matplotlib\n",
    "import matplotlib.pyplot as plt\n",
    "import palettable"
   ]
  },
  {
   "cell_type": "code",
   "execution_count": null,
   "id": "eb7e6f03-e09d-4235-b900-ecdb4d943cc8",
   "metadata": {},
   "outputs": [],
   "source": [
    "import verdict\n",
    "import trove\n",
    "import helpers"
   ]
  },
  {
   "cell_type": "markdown",
   "id": "06339798-4f81-489d-a25f-d6a14a127ca6",
   "metadata": {},
   "source": [
    "## Parameters"
   ]
  },
  {
   "cell_type": "code",
   "execution_count": null,
   "id": "2e8e3673-2622-43c0-97de-2acbc0e33ba3",
   "metadata": {},
   "outputs": [],
   "source": [
    "ions = [\n",
    "    'H I',\n",
    "    'O I',\n",
    "    'C II',\n",
    "    'C III',\n",
    "    'C IV',\n",
    "    'N II',\n",
    "    'N III',\n",
    "    'Si II',\n",
    "    'Si III',\n",
    "    'Si IV',\n",
    "    'N V',\n",
    "    'O VI',\n",
    "    'Mg II'\n",
    "]\n",
    "snr = 30"
   ]
  },
  {
   "cell_type": "code",
   "execution_count": null,
   "id": "38b3f534-a02c-45cf-9a9e-761777dc4b57",
   "metadata": {},
   "outputs": [],
   "source": [
    "pm = trove.link_params_to_config(\n",
    "    helpers.CONFIG,\n",
    "    script_id = 'nb.1',\n",
    "    variation = 'm12i_md',\n",
    ")"
   ]
  },
  {
   "cell_type": "code",
   "execution_count": null,
   "id": "1b644d18-853b-41e8-9dfc-0f116f2222f8",
   "metadata": {},
   "outputs": [],
   "source": [
    "qual_colors = palettable.cartocolors.qualitative.Vivid_10.mpl_colors"
   ]
  },
  {
   "cell_type": "code",
   "execution_count": null,
   "id": "af792519-adcc-40b4-a72f-ec760ba34685",
   "metadata": {},
   "outputs": [],
   "source": [
    "sim = pm['variation']"
   ]
  },
  {
   "cell_type": "markdown",
   "id": "538d16d4-c378-40da-a8cc-15995c680f54",
   "metadata": {},
   "source": [
    "## Load Halo Data"
   ]
  },
  {
   "cell_type": "code",
   "execution_count": null,
   "id": "36b475e7-ed8a-4826-8dc9-ecee97b82684",
   "metadata": {},
   "outputs": [],
   "source": [
    "halo_catalog_fn = 'halo_{}.hdf5'.format( pm['snum'] )\n",
    "halo_catalog_fp = os.path.join( pm['rockstar_data_dir'], halo_catalog_fn )"
   ]
  },
  {
   "cell_type": "code",
   "execution_count": null,
   "id": "01709540-4783-4251-8fc8-18f50e10ba52",
   "metadata": {},
   "outputs": [],
   "source": [
    "halo_data = verdict.Dict.from_hdf5( halo_catalog_fp )\n",
    "index = halo_data['mass'].argmax()\n",
    "center_ckpc = halo_data['position'][index]\n",
    "center = center_ckpc / ( 1. + halo_data['snapshot:redshift'] )"
   ]
  },
  {
   "cell_type": "markdown",
   "id": "26193749-357c-49b9-934c-43f4c835385d",
   "metadata": {},
   "source": [
    "## Load Simulation Data"
   ]
  },
  {
   "cell_type": "code",
   "execution_count": null,
   "id": "c3cf73b3-6489-41db-a635-67fdcce1e12c",
   "metadata": {},
   "outputs": [],
   "source": [
    "yt_sim_fp = os.path.join( pm['sim_data_dir'], 'snapdir_{:03d}'.format( pm['snum'] ) )\n",
    "ds = yt.load( yt_sim_fp )"
   ]
  },
  {
   "cell_type": "code",
   "execution_count": null,
   "id": "3fd1b069-05bc-4582-8f9b-22c3786be434",
   "metadata": {},
   "outputs": [],
   "source": [
    "kpc = ds.quan( 1, 'kpc' )"
   ]
  },
  {
   "cell_type": "markdown",
   "id": "72d3a6ff-4e7e-41ea-a96a-6434a83ca1cc",
   "metadata": {},
   "source": [
    "## Load Processed Data"
   ]
  },
  {
   "cell_type": "code",
   "execution_count": null,
   "id": "682229fe-bdaa-4ab8-917a-e9fd0a1f2ab9",
   "metadata": {},
   "outputs": [],
   "source": [
    "data_fp = os.path.join( pm['processed_data_dir'], 'data.h5' )\n",
    "data = verdict.Dict.from_hdf5( data_fp, create_nonexistent=True )"
   ]
  },
  {
   "cell_type": "markdown",
   "id": "443a88a8-d756-4b18-a488-e2a13c241984",
   "metadata": {},
   "source": [
    "# Sightline Coordinates"
   ]
  },
  {
   "cell_type": "markdown",
   "id": "14f78996-c466-4514-b9b1-aee51906f662",
   "metadata": {},
   "source": [
    "## One-time Calculations"
   ]
  },
  {
   "cell_type": "code",
   "execution_count": null,
   "id": "d5788805-4092-49dd-90ed-b98cb21d1d36",
   "metadata": {},
   "outputs": [],
   "source": [
    "new_data = False"
   ]
  },
  {
   "cell_type": "code",
   "execution_count": null,
   "id": "4b97bd18-38d4-429c-a7ad-b9e2a3d80f50",
   "metadata": {},
   "outputs": [],
   "source": [
    "data_key = 'total_angular_momentum'\n",
    "try:\n",
    "    jtot = data[sim][data_key]\n",
    "except KeyError:\n",
    "    \n",
    "    new_data = True\n",
    "        \n",
    "    sp = ds.sphere( center * kpc , (10, \"kpc\"))\n",
    "    jtot = sp.quantities.angular_momentum_vector( particle_type='PartType4' ).to( 'kpc * km / s' ).value\n",
    "\n",
    "    data.setitem(sim, jtot, data_key, )"
   ]
  },
  {
   "cell_type": "code",
   "execution_count": null,
   "id": "825e1cf9-06f7-4ff6-a493-84ea9c3b7d36",
   "metadata": {},
   "outputs": [],
   "source": [
    "data_key = 'galaxy_velocity'\n",
    "try:\n",
    "    galaxy_velocity = data[sim][data_key]\n",
    "except KeyError:\n",
    "    \n",
    "    new_data = True\n",
    "        \n",
    "    sp_center = ds.sphere( center * kpc, ( 10, 'kpc' ) )\n",
    "    galaxy_velocity = sp_center.quantities.bulk_velocity().to( 'km/s' ).value\n",
    "\n",
    "    data.setitem(sim, galaxy_velocity, data_key, )"
   ]
  },
  {
   "cell_type": "code",
   "execution_count": null,
   "id": "a35fc53b-73a5-4e7d-8c74-40e01134de7e",
   "metadata": {},
   "outputs": [],
   "source": [
    "if new_data:\n",
    "    data.to_hdf5( data_fp )"
   ]
  },
  {
   "cell_type": "markdown",
   "id": "39d03c94-e7e4-4d03-8852-850578809707",
   "metadata": {},
   "source": [
    "## End Position"
   ]
  },
  {
   "cell_type": "markdown",
   "id": "adfe9eda-7361-4cc5-8f2a-c150f3e5b2e7",
   "metadata": {},
   "source": [
    "### Position"
   ]
  },
  {
   "cell_type": "code",
   "execution_count": null,
   "id": "37d9f1fc-bf50-4efc-8998-18010f1a12d1",
   "metadata": {},
   "outputs": [],
   "source": [
    "zhat = jtot / np.linalg.norm( jtot )\n",
    "xhat = np.cross( [ 1, 0, 0 ], zhat )\n",
    "xhat /= np.linalg.norm( xhat )\n",
    "yhat = np.cross( zhat, xhat )"
   ]
  },
  {
   "cell_type": "code",
   "execution_count": null,
   "id": "7cd2a998-df1d-4c15-9844-9b338faddc46",
   "metadata": {},
   "outputs": [],
   "source": [
    "end = center + pm['sun_galactocentric_radius'] * xhat"
   ]
  },
  {
   "cell_type": "markdown",
   "id": "5cad023e-dc87-4e0d-8d6f-b0c64312dfbf",
   "metadata": {},
   "source": [
    "### Velocity"
   ]
  },
  {
   "cell_type": "code",
   "execution_count": null,
   "id": "6e07b3d4-45dc-4d63-9938-70f4223b4463",
   "metadata": {},
   "outputs": [],
   "source": [
    "data_key = 'sun_relative_velocity'\n",
    "try:\n",
    "    sun_relative_velocity = data[sim][data_key]\n",
    "except KeyError:\n",
    "    \n",
    "    new_data = True\n",
    "    \n",
    "    sp_sun = ds.sphere( end * kpc, ( 2, 'kpc' ) )\n",
    "    sun_velocity = sp_sun.quantities.bulk_velocity( particle_type='PartType4' ).to( 'km/s' )\n",
    "    sun_relative_velocity = ( sun_velocity - galaxy_velocity * unyt.km / unyt.s ).value\n",
    "    \n",
    "    data.setitem(sim, sun_relative_velocity, data_key, )"
   ]
  },
  {
   "cell_type": "code",
   "execution_count": null,
   "id": "19863988-3cea-4377-8929-4e28d4d0be9e",
   "metadata": {},
   "outputs": [],
   "source": [
    "if new_data:\n",
    "    data.to_hdf5( data_fp )"
   ]
  },
  {
   "cell_type": "markdown",
   "id": "0e8e5e3d-9c37-4618-818c-13f8c73f07ed",
   "metadata": {},
   "source": [
    "## Start Positions"
   ]
  },
  {
   "cell_type": "markdown",
   "id": "038f52ce-265a-41ab-8475-731d5166c42f",
   "metadata": {},
   "source": [
    "### Load On-Sky Coords"
   ]
  },
  {
   "cell_type": "code",
   "execution_count": null,
   "id": "1314165b-0fc6-4b35-81d1-ffb42d84e5dc",
   "metadata": {},
   "outputs": [],
   "source": [
    "coords_fp = os.path.join( pm['processed_data_dir'], 'skycoords.txt' )\n",
    "skycoords = pd.read_csv( coords_fp, sep=', ' )"
   ]
  },
  {
   "cell_type": "code",
   "execution_count": null,
   "id": "0603d59e-4332-4467-bd31-944c990c060e",
   "metadata": {},
   "outputs": [],
   "source": [
    "# Add a test coordinate\n",
    "testcoord = pd.Series( data={ 'QSO ID': 'test', 'latitude': 30., 'longitude': 0. } )\n",
    "skycoords = skycoords.append( testcoord, ignore_index=True, )"
   ]
  },
  {
   "cell_type": "code",
   "execution_count": null,
   "id": "cf76cf90-7124-4c7e-9e57-1f11277cd9a4",
   "metadata": {},
   "outputs": [],
   "source": [
    "# Add a second test coordinate\n",
    "testcoord = pd.Series( data={ 'QSO ID': 'test', 'latitude': 0., 'longitude': 30. } )\n",
    "skycoords = skycoords.append( testcoord, ignore_index=True, )"
   ]
  },
  {
   "cell_type": "markdown",
   "id": "bb74067b-1249-41a7-8662-d672f864daaf",
   "metadata": {},
   "source": [
    "#### Plot"
   ]
  },
  {
   "cell_type": "code",
   "execution_count": null,
   "id": "bf7716e0-19cb-4f5d-8862-fea58309470c",
   "metadata": {},
   "outputs": [],
   "source": [
    "proj = ccrs.Mollweide()\n",
    "img_proj = ccrs.PlateCarree()"
   ]
  },
  {
   "cell_type": "code",
   "execution_count": null,
   "id": "54dfcb97-b946-4ac5-84a9-25f017f187d9",
   "metadata": {},
   "outputs": [],
   "source": [
    "# Check we have the proper number of points in each quadrant\n",
    "normal_person_longitude = 360 - skycoords['longitude']\n",
    "above_plane = skycoords['latitude'] > 0.\n",
    "below_plane = skycoords['latitude'] < 0.\n",
    "left_of_center = ( normal_person_longitude > 180. ) & ( normal_person_longitude < 360. )\n",
    "right_of_center = normal_person_longitude < 180.\n",
    "assert ( above_plane & left_of_center ).sum() == 4\n",
    "assert ( above_plane & right_of_center ).sum() == 3\n",
    "assert ( below_plane & left_of_center ).sum() == 6\n",
    "assert ( below_plane & right_of_center ).sum() == 5"
   ]
  },
  {
   "cell_type": "code",
   "execution_count": null,
   "id": "389a147a-ed0c-4571-9c02-4cfd537dd0b5",
   "metadata": {},
   "outputs": [],
   "source": [
    "fig = plt.figure()\n",
    "ax = plt.axes( projection=proj )\n",
    "\n",
    "ax.scatter(\n",
    "    normal_person_longitude,\n",
    "    skycoords['latitude'],\n",
    "    transform = img_proj\n",
    ")\n",
    "\n",
    "ax.gridlines()\n",
    "delta_extent = 1\n",
    "ax.set_extent([180-delta_extent,180+delta_extent,-90,90], crs=img_proj)"
   ]
  },
  {
   "cell_type": "markdown",
   "id": "a2bb50fd-d7f8-4265-9cb9-0e02f1bf785a",
   "metadata": {},
   "source": [
    "### Convert to Simulation Coordinates"
   ]
  },
  {
   "cell_type": "markdown",
   "id": "e8f71112-d4e3-4f32-8f0c-0621a84d0ba5",
   "metadata": {},
   "source": [
    "#### Calculate"
   ]
  },
  {
   "cell_type": "code",
   "execution_count": null,
   "id": "d4d1d4d3-7a04-4aaa-84ac-5d5e0fcbef7e",
   "metadata": {},
   "outputs": [],
   "source": [
    "# Unit vectors for on-sky coordinate system.\n",
    "# xskyhat points from the sun to the center of the galaxy.\n",
    "# zskyhat points parallel to the axis of total angular momentum.\n",
    "# yskyhat (should) point to the left on a sky map.\n",
    "# Dot these with the coordinates to get coordinates in the sky frame.\n",
    "xskyhat = -xhat\n",
    "zskyhat = zhat\n",
    "yskyhat = np.cross( zskyhat, xskyhat )"
   ]
  },
  {
   "cell_type": "code",
   "execution_count": null,
   "id": "27ef6521-5f35-4692-965c-b05f5e5a2b51",
   "metadata": {},
   "outputs": [],
   "source": [
    "# Convert from longitude and latitude to spherical coords, in the original (non-sky) frame.\n",
    "phi = ( skycoords['longitude'] ) * np.pi / 180.\n",
    "theta = ( 90 - skycoords['latitude'] ) * np.pi / 180."
   ]
  },
  {
   "cell_type": "code",
   "execution_count": null,
   "id": "9ef86b24-6723-4443-b457-4327dd112393",
   "metadata": {},
   "outputs": [],
   "source": [
    "unitcoords_sky = np.array([ np.cos( phi ) * np.sin( theta ), np.sin( phi ) * np.sin( theta ), np.cos( theta ) ])"
   ]
  },
  {
   "cell_type": "code",
   "execution_count": null,
   "id": "22cbd134-ee4d-49b2-8b02-e62b701004f1",
   "metadata": {},
   "outputs": [],
   "source": [
    "unitcoords = (\n",
    "    unitcoords_sky[0][:,np.newaxis] * xskyhat +\n",
    "    unitcoords_sky[1][:,np.newaxis] * yskyhat +\n",
    "    unitcoords_sky[2][:,np.newaxis] * zskyhat\n",
    ")"
   ]
  },
  {
   "cell_type": "code",
   "execution_count": null,
   "id": "4465d5ae-91d8-4626-b63c-3255d0cb88c7",
   "metadata": {},
   "outputs": [],
   "source": [
    "start = end + unitcoords * pm['pathlength']"
   ]
  },
  {
   "cell_type": "code",
   "execution_count": null,
   "id": "d41c35cf-9d12-4145-b683-88979d1bc068",
   "metadata": {},
   "outputs": [],
   "source": [
    "fig = plt.figure()\n",
    "ax = plt.gca()\n",
    "\n",
    "halfwidth = 10\n",
    "\n",
    "i = 0\n",
    "j = 1\n",
    "x_i = [ 'x', 'y', 'z' ][i]\n",
    "x_j = [ 'x', 'y', 'z' ][j]\n",
    "\n",
    "for start_ in start:\n",
    "    ax.plot(\n",
    "        [ start_[i], end[i] ],\n",
    "        [ start_[j], end[j] ],\n",
    "        color = 'k',\n",
    "        # s = 100,\n",
    "    )\n",
    "\n",
    "ax.scatter(\n",
    "    end[i],\n",
    "    end[j],\n",
    "    color = 'k',\n",
    "    s = 100,\n",
    "    zorder = 100,\n",
    ")\n",
    "\n",
    "ax.scatter(\n",
    "    center[i],\n",
    "    center[j],\n",
    "    color = 'k',\n",
    "    s = 100,\n",
    "    zorder = 100,\n",
    "    marker = '*',\n",
    ")\n",
    "\n",
    "# Unit vectors\n",
    "unit_vector_colors = palettable.cartocolors.qualitative.Safe_10.mpl_colors\n",
    "skyvecs = [ xskyhat, yskyhat, zskyhat ]\n",
    "for ii, xihat in enumerate( [ xhat, yhat, zhat ] ):\n",
    "    ax.plot(\n",
    "        [ center[i], center[i] + xihat[i]*halfwidth/2 ],\n",
    "        [ center[j], center[j] + xihat[j]*halfwidth/2 ],\n",
    "        color = unit_vector_colors[ii],\n",
    "        linewidth = 3,\n",
    "    )\n",
    "    \n",
    "    ax.plot(\n",
    "        [ end[i], end[i] + skyvecs[ii][i]*halfwidth/2 ],\n",
    "        [ end[j], end[j] + skyvecs[ii][j]*halfwidth/2 ],\n",
    "        color = unit_vector_colors[ii],\n",
    "        linewidth = 3,\n",
    "    )\n",
    "\n",
    "\n",
    "ax.set_xlim( center[i] - halfwidth, center[i] + halfwidth )\n",
    "ax.set_ylim( center[j] - halfwidth, center[j] + halfwidth )\n"
   ]
  },
  {
   "cell_type": "markdown",
   "id": "c1c15d10-bde1-42e4-900a-49b21e3973f9",
   "metadata": {},
   "source": [
    "#### Check"
   ]
  },
  {
   "cell_type": "code",
   "execution_count": null,
   "id": "62ab0cd9-a1ff-4ddb-8754-8b38ba3a0583",
   "metadata": {},
   "outputs": [],
   "source": [
    "# Check orientation above/below plane\n",
    "dot_z = np.einsum( 'ij,j->i', start[above_plane] - end, jtot )\n",
    "np.testing.assert_allclose( np.sign( dot_z ), 1. )\n",
    "dot_z = np.einsum( 'ij,j->i', start[below_plane] - end, jtot )\n",
    "np.testing.assert_allclose( np.sign( dot_z ), -1. )"
   ]
  },
  {
   "cell_type": "code",
   "execution_count": null,
   "id": "a5697be2-74e8-48b6-b5d7-bbf522af6e97",
   "metadata": {},
   "outputs": [],
   "source": [
    "# Check orientation left/right\n",
    "dot_y = np.einsum( 'ij,j->i', start[left_of_center] - end, yhat )\n",
    "np.testing.assert_allclose( np.sign( dot_z ), -1. )\n",
    "dot_z = np.einsum( 'ij,j->i', start[right_of_center] - end, yhat )\n",
    "np.testing.assert_allclose( np.sign( dot_z ), 1. )"
   ]
  },
  {
   "cell_type": "code",
   "execution_count": null,
   "id": "9422d67a-b3af-4fe3-a60d-6c8bb4d95d03",
   "metadata": {},
   "outputs": [],
   "source": [
    "# Check the second test coordinate dotted with yhat should be - pm['pathlength'] * sin( 30 ).\n",
    "# This checks if the coordinates on the left are on the side of the galaxy rotating towards the viewer.\n",
    "np.testing.assert_allclose( np.dot( start[-1] - end, yhat ), -pm['pathlength'] * 0.5 )\n",
    "# Once checked, get rid of the test coord\n",
    "start = np.delete( start, -1, axis=0 )"
   ]
  },
  {
   "cell_type": "code",
   "execution_count": null,
   "id": "25b75100-76e0-4a2a-8c73-6d47b8154572",
   "metadata": {},
   "outputs": [],
   "source": [
    "# Check the test coordinate dotted with the zhat should be pm['pathlength'] * cos( 60 )\n",
    "np.testing.assert_allclose( np.dot( start[-1] - end, zhat ), pm['pathlength'] * 0.5 )\n",
    "# Once checked, get rid of the test coord\n",
    "start = np.delete( start, -1, axis=0 )"
   ]
  },
  {
   "cell_type": "markdown",
   "id": "99ae12b5-c624-4b01-9325-1c47d3936e18",
   "metadata": {},
   "source": [
    "## Save"
   ]
  },
  {
   "cell_type": "code",
   "execution_count": null,
   "id": "b73b9528-0110-4da1-a9ab-efb1fc2e2fb8",
   "metadata": {},
   "outputs": [],
   "source": [
    "data.setitem( sim, xskyhat, 'galactic_frame', 'xhat', )\n",
    "data.setitem( sim, yskyhat, 'galactic_frame', 'yhat', )\n",
    "data.setitem( sim, zskyhat, 'galactic_frame', 'zhat', )"
   ]
  },
  {
   "cell_type": "code",
   "execution_count": null,
   "id": "32d3045c-1de3-4848-ba96-597e4216a488",
   "metadata": {},
   "outputs": [],
   "source": [
    "data.setitem( sim, start, 'start' )\n",
    "data.setitem( sim, end, 'end' )"
   ]
  },
  {
   "cell_type": "code",
   "execution_count": null,
   "id": "7d25254a-a55c-484c-94d4-14983be8e2fc",
   "metadata": {},
   "outputs": [],
   "source": [
    "data.to_hdf5( data_fp )"
   ]
  },
  {
   "cell_type": "markdown",
   "id": "f317018b-7e62-48e7-9ead-76b974608343",
   "metadata": {},
   "source": [
    "# Generate Rays and Spectra"
   ]
  },
  {
   "cell_type": "code",
   "execution_count": null,
   "id": "b0423c95-7783-4c36-b99a-6652068ba7bf",
   "metadata": {},
   "outputs": [],
   "source": [
    "# Objects for use\n",
    "ldb = trident.LineDatabase( 'lines.txt' )"
   ]
  },
  {
   "cell_type": "markdown",
   "id": "13e7ab22-8397-45e4-aa2d-207b611ef6da",
   "metadata": {},
   "source": [
    "## Generate Rays"
   ]
  },
  {
   "cell_type": "code",
   "execution_count": null,
   "id": "74e79295-0793-4b91-9108-9a8d2e3f7174",
   "metadata": {
    "tags": []
   },
   "outputs": [],
   "source": [
    "for i, start_i in enumerate( start ):\n",
    "    \n",
    "    print( 'Generating sightline {:03d}...'.format( i ) )\n",
    "    \n",
    "    ray_dir = os.path.join( pm['data_dir'], 'sightlines' )\n",
    "    os.makedirs( ray_dir, exist_ok=True )\n",
    "    ray_fp = os.path.join( ray_dir, 'ray_{:03d}.h5'.format( i ) )\n",
    "    \n",
    "    ray = trident.make_simple_ray(\n",
    "        ds,\n",
    "        start_position = ( start_i * ds.quan( 1, 'kpc' ) ),\n",
    "        end_position = ( end * ds.quan( 1, 'kpc' ) ),\n",
    "        data_filename = ray_fp,\n",
    "        lines = ions,\n",
    "    )"
   ]
  },
  {
   "cell_type": "markdown",
   "id": "160fba58-08ed-44e0-8c0d-0eab81a443f1",
   "metadata": {},
   "source": [
    "## Generate Spectra"
   ]
  },
  {
   "cell_type": "code",
   "execution_count": null,
   "id": "78e72aff-5a67-429b-9813-bd4647b16b6f",
   "metadata": {},
   "outputs": [],
   "source": [
    "# Waaaay too much output otherwise\n",
    "yt.utilities.logger.disable_stream_logging()"
   ]
  },
  {
   "cell_type": "code",
   "execution_count": null,
   "id": "c84b3649-eb12-4fbb-ae61-0ffb0a9ccf98",
   "metadata": {},
   "outputs": [],
   "source": [
    "sg = trident.SpectrumGenerator( line_database=ldb )"
   ]
  },
  {
   "cell_type": "code",
   "execution_count": null,
   "id": "0f7892ef-6ede-42ed-b8dd-708dac0eb983",
   "metadata": {},
   "outputs": [],
   "source": [
    "observables_fp = os.path.join( pm['data_dir'], 'sightlines', 'observables.h5' )\n",
    "observables_data = verdict.Dict.from_hdf5( observables_fp, create_nonexistent=True )"
   ]
  },
  {
   "cell_type": "code",
   "execution_count": null,
   "id": "29f6a6d2-e9f1-4a3d-91b0-4bd9c4c261f1",
   "metadata": {
    "tags": []
   },
   "outputs": [],
   "source": [
    "for i, start_i in enumerate( start ):\n",
    "    \n",
    "    print( 'Generating spectra {:03d}...'.format( i ) )\n",
    "    \n",
    "    ray_dir = os.path.join( pm['data_dir'], 'sightlines' )\n",
    "    ray_fp = os.path.join( ray_dir, 'ray_{:03d}.h5'.format( i ) )\n",
    "    ray = yt.load( ray_fp )\n",
    "    \n",
    "    trident.add_ion_fields(ray, ions=ions )\n",
    "    \n",
    "    # Without the redirection the logging may still happen despite asking it not to (nicely).... Not sure why\n",
    "    f = io.StringIO()\n",
    "    with contextlib.redirect_stderr( f ):\n",
    "        # Make the spectrum\n",
    "        sg.make_spectrum( ray, lines=ions, store_observables=True, min_tau=1e-4 )\n",
    "            \n",
    "    sg.apply_lsf()\n",
    "    sg.add_gaussian_noise( snr )\n",
    "    \n",
    "    # Save\n",
    "    sg.save_spectrum(\n",
    "        os.path.join( ray_dir, 'spectrum_{:03d}.h5'.format( i ) )\n",
    "    )\n",
    "    sg.plot_spectrum(\n",
    "        os.path.join( ray_dir, 'spectrum_{:03d}.png'.format( i ) )\n",
    "    )\n",
    "\n",
    "    observables_data.setitem( '{:03d}'.format( i ), sg.line_observables_dict,  )"
   ]
  },
  {
   "cell_type": "code",
   "execution_count": null,
   "id": "5723633b-f233-46d6-b3c1-919b579215b6",
   "metadata": {},
   "outputs": [],
   "source": [
    "observables_data.to_hdf5( observables_fp )"
   ]
  },
  {
   "cell_type": "code",
   "execution_count": null,
   "id": "7579f8ee-b6f9-4ee5-aa55-58f73447196f",
   "metadata": {},
   "outputs": [],
   "source": []
  }
 ],
 "metadata": {
  "kernelspec": {
   "display_name": "Python 3 (ipykernel)",
   "language": "python",
   "name": "python3"
  },
  "language_info": {
   "codemirror_mode": {
    "name": "ipython",
    "version": 3
   },
   "file_extension": ".py",
   "mimetype": "text/x-python",
   "name": "python",
   "nbconvert_exporter": "python",
   "pygments_lexer": "ipython3",
   "version": "3.9.7"
  }
 },
 "nbformat": 4,
 "nbformat_minor": 5
}
