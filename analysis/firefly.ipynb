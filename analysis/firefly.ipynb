{
 "cells": [
  {
   "cell_type": "markdown",
   "id": "739b5f7e-795f-458a-965b-92c43d2cf865",
   "metadata": {},
   "source": [
    "# Setup"
   ]
  },
  {
   "cell_type": "markdown",
   "id": "95c1ebd0-9eb2-4912-981c-89023bf4e279",
   "metadata": {},
   "source": [
    "## Imports"
   ]
  },
  {
   "cell_type": "code",
   "execution_count": null,
   "id": "9320ff84-0fbb-449a-be1a-c556e8d2a5ca",
   "metadata": {},
   "outputs": [],
   "source": [
    "import numpy as np\n",
    "import os\n",
    "import tqdm"
   ]
  },
  {
   "cell_type": "code",
   "execution_count": null,
   "id": "3ee4c17c-57c6-4892-8eea-add29f0cd89d",
   "metadata": {
    "tags": []
   },
   "outputs": [],
   "source": [
    "import yt\n",
    "import unyt\n",
    "import trident\n",
    "import trident.firefly_generator as trident_firefly"
   ]
  },
  {
   "cell_type": "code",
   "execution_count": null,
   "id": "d21c2505-93b9-4614-aadc-5206a475696d",
   "metadata": {},
   "outputs": [],
   "source": [
    "import firefly"
   ]
  },
  {
   "cell_type": "code",
   "execution_count": null,
   "id": "17583c44-7324-4add-90d7-b2baf3622b41",
   "metadata": {},
   "outputs": [],
   "source": [
    "import matplotlib\n",
    "import matplotlib.pyplot as plt\n",
    "import palettable"
   ]
  },
  {
   "cell_type": "code",
   "execution_count": null,
   "id": "d904d522-4ec5-44c7-8a70-ea15656a40de",
   "metadata": {},
   "outputs": [],
   "source": [
    "import verdict\n",
    "import trove\n",
    "import helpers"
   ]
  },
  {
   "cell_type": "code",
   "execution_count": null,
   "id": "4a0a2c27-bff4-4895-a603-72b681f56737",
   "metadata": {},
   "outputs": [],
   "source": [
    "from importlib import reload"
   ]
  },
  {
   "cell_type": "markdown",
   "id": "003d75e2-c411-4278-afad-cf9c9892d7b0",
   "metadata": {},
   "source": [
    "## Parameters"
   ]
  },
  {
   "cell_type": "code",
   "execution_count": null,
   "id": "4b6ae5b9-12cd-4a4a-bf7d-7b8ccecd4b9a",
   "metadata": {},
   "outputs": [],
   "source": [
    "ions = [\n",
    "    'H I',\n",
    "    # 'O I',\n",
    "    # 'C II',\n",
    "    # 'C III',\n",
    "    'C IV',\n",
    "    # 'N II',\n",
    "    # 'N III',\n",
    "    # 'Si II',\n",
    "    # 'Si III',\n",
    "    # 'Si IV',\n",
    "    # 'N V',\n",
    "    'O VI',\n",
    "    'Mg II'\n",
    "]\n",
    "field_limits = {\n",
    "    'logHIdensity': [ -6, 3 ],\n",
    "    'logCIVdensity': [ -15, -8 ],\n",
    "    'logOVIdensity': [ -15, -8 ],\n",
    "    'logMgIIdensity': [ -8, -1 ],\n",
    "}\n",
    "starting_colormap = 'logCIVdensity'\n",
    "    \n",
    "fields_to_include = [ 'temperature', 'density', 'metallicity' ]\n",
    "fields_units = [ 'log(K)', 'log(mp/cm**3)', 'Zsun' ]\n",
    "snr = 30"
   ]
  },
  {
   "cell_type": "code",
   "execution_count": null,
   "id": "2c653c6b-e5e3-4ab6-a787-b5bb6c291d0f",
   "metadata": {},
   "outputs": [],
   "source": [
    "pm = trove.link_params_to_config(\n",
    "    helpers.CONFIG,\n",
    "    script_id = 'nb.3',\n",
    "    variation = 'm12i_md',\n",
    ")"
   ]
  },
  {
   "cell_type": "code",
   "execution_count": null,
   "id": "1c1a980d-2510-46a4-b95d-0f453a88bb80",
   "metadata": {},
   "outputs": [],
   "source": [
    "qual_colors = palettable.cartocolors.qualitative.Vivid_10.mpl_colors"
   ]
  },
  {
   "cell_type": "code",
   "execution_count": null,
   "id": "9ddf5bbe-7be0-4241-ac87-4a14647bd187",
   "metadata": {},
   "outputs": [],
   "source": [
    "sim = pm['variation']"
   ]
  },
  {
   "cell_type": "markdown",
   "id": "6fdbd1b0-8db3-4424-bf51-b65f8cca87c9",
   "metadata": {},
   "source": [
    "## Load Halo Data"
   ]
  },
  {
   "cell_type": "code",
   "execution_count": null,
   "id": "d36550d0-ae5e-465f-9074-f2165da1b812",
   "metadata": {},
   "outputs": [],
   "source": [
    "halo_catalog_fn = 'halo_{}.hdf5'.format( pm['snum'] )\n",
    "halo_catalog_fp = os.path.join( pm['rockstar_data_dir'], halo_catalog_fn )"
   ]
  },
  {
   "cell_type": "code",
   "execution_count": null,
   "id": "bf7ec99c-b2b3-48d8-9d2c-08949ba9e4cf",
   "metadata": {},
   "outputs": [],
   "source": [
    "halo_data = verdict.Dict.from_hdf5( halo_catalog_fp )\n",
    "index = halo_data['mass'].argmax()\n",
    "center_ckpc = halo_data['position'][index]\n",
    "center = center_ckpc / ( 1. + halo_data['snapshot:redshift'] )"
   ]
  },
  {
   "cell_type": "markdown",
   "id": "adbe2190-ebc6-4b02-a466-397b3466785a",
   "metadata": {},
   "source": [
    "## Load Simulation Data"
   ]
  },
  {
   "cell_type": "code",
   "execution_count": null,
   "id": "cc358d24-c2bf-4720-bd65-a1136bf750fa",
   "metadata": {},
   "outputs": [],
   "source": [
    "yt_sim_fp = os.path.join( pm['sim_data_dir'], 'snapdir_{:03d}'.format( pm['snum'] ) )\n",
    "ds = yt.load( yt_sim_fp )"
   ]
  },
  {
   "cell_type": "code",
   "execution_count": null,
   "id": "cc4e011b-99e9-41ba-abf1-a2e0b035428e",
   "metadata": {},
   "outputs": [],
   "source": [
    "kpc = ds.quan( 1, 'kpc' )"
   ]
  },
  {
   "cell_type": "markdown",
   "id": "5bddd840-5d6d-43d0-b409-898d5df9d62f",
   "metadata": {},
   "source": [
    "## Load Processed Data"
   ]
  },
  {
   "cell_type": "code",
   "execution_count": null,
   "id": "c0eba944-54f4-4ee4-b325-9007b9523679",
   "metadata": {},
   "outputs": [],
   "source": [
    "data_fp = os.path.join( pm['processed_data_dir'], 'data.h5' )\n",
    "data = verdict.Dict.from_hdf5( data_fp, create_nonexistent=True )"
   ]
  },
  {
   "cell_type": "markdown",
   "id": "eb3565ce-d29d-49ab-b793-909b4dc26c73",
   "metadata": {},
   "source": [
    "# Make Firefly Visualization"
   ]
  },
  {
   "cell_type": "markdown",
   "id": "28187574-fa15-434a-a0a8-8a0613f09938",
   "metadata": {},
   "source": [
    "## Simulation Data"
   ]
  },
  {
   "cell_type": "code",
   "execution_count": null,
   "id": "47d1eae1-1af6-49be-a937-eea980c200c0",
   "metadata": {},
   "outputs": [],
   "source": [
    "# Add ion fields\n",
    "trident.ion_balance.add_ion_fields( ds, ions )"
   ]
  },
  {
   "cell_type": "code",
   "execution_count": null,
   "id": "104f2a66-404f-464c-a3ba-c0b4224cb031",
   "metadata": {},
   "outputs": [],
   "source": [
    "# Ion units, names, and internal names\n",
    "ldb = trident.line_database.LineDatabase( 'lines.txt' )\n",
    "number_densities_to_include = [ ( 'gas', '{}_p{}_number_density'.format( atom, lev-1 ) ) for atom, lev in ldb.parse_subset_to_ions( ions ) ]\n",
    "number_density_units = [ 'log(cm**-3)', ] * len( number_densities_to_include )\n",
    "number_density_names = [ 'log{}density'.format( _.replace( ' ', '' ) ) for _ in ions ]"
   ]
  },
  {
   "cell_type": "code",
   "execution_count": null,
   "id": "c0a64a24-87fc-492e-8678-93da3d3665d4",
   "metadata": {},
   "outputs": [],
   "source": [
    "# Setup a subvolume for easier management\n",
    "sun_position = data[sim]['end'] * kpc\n",
    "sp = ds.sphere( sun_position, (2. * halo_data['radius'][index], \"kpc\") )"
   ]
  },
  {
   "cell_type": "code",
   "execution_count": null,
   "id": "bad40869-493a-4ecd-968d-ea1cacd14274",
   "metadata": {},
   "outputs": [],
   "source": [
    "# Ensure we can output\n",
    "os.makedirs( pm['firefly_dir'], exist_ok=True )"
   ]
  },
  {
   "cell_type": "code",
   "execution_count": null,
   "id": "d480308d-c741-4d54-b865-1648db76b038",
   "metadata": {},
   "outputs": [],
   "source": [
    "ff_reader = sp.create_firefly_object(\n",
    "    datadir = pm['firefly_dir'],\n",
    "    ptypes = [ 'PartType0', ],\n",
    "    fields_to_include = fields_to_include + number_densities_to_include,\n",
    "    fields_units = fields_units + number_density_units,\n",
    "    field_names = fields_to_include + number_density_names,\n",
    ")"
   ]
  },
  {
   "cell_type": "code",
   "execution_count": null,
   "id": "2f21648c-a8c5-480b-bbe2-410effbc41b5",
   "metadata": {},
   "outputs": [],
   "source": [
    "# Decide on limits\n",
    "\n",
    "%matplotlib inline\n",
    "\n",
    "fig = plt.figure(figsize=( 5, 5 * len( ions ) ))\n",
    "ax_dict = fig.subplot_mosaic(\n",
    "    [ [ _, ] for _ in ions ],\n",
    ")\n",
    "\n",
    "for i, num_den in enumerate( number_densities_to_include ):\n",
    "    ax = ax_dict[ions[i]]\n",
    "    \n",
    "    num_den_arr = sp[num_den].value\n",
    "    \n",
    "    xmin = np.nanmin( num_den_arr[num_den_arr>1e-16], )\n",
    "    xmax = np.nanmax( num_den_arr, )\n",
    "    \n",
    "    ax.hist(\n",
    "        num_den_arr,\n",
    "        bins = np.logspace( np.log10( xmin ), np.log10( xmax ), 16 ),\n",
    "        # log = True,\n",
    "        color = 'k',\n",
    "    )\n",
    "    \n",
    "    field_name = number_density_names[i]\n",
    "    for ion_lim in field_limits[field_name]:\n",
    "        ax.axvline(\n",
    "            10.**np.array(ion_lim),\n",
    "        )\n",
    "    \n",
    "    ax.set_xscale( 'log' )\n",
    "    ax.set_xlim( xmin, xmax )\n",
    "\n",
    "    ax.set_ylabel( ions[i] )\n"
   ]
  },
  {
   "cell_type": "markdown",
   "id": "4f578d7e-531b-41db-86bd-607d36123379",
   "metadata": {},
   "source": [
    "## Sightlines"
   ]
  },
  {
   "cell_type": "code",
   "execution_count": null,
   "id": "2b870bd3-9278-4fbd-9f5f-4fcfa8bcc36c",
   "metadata": {},
   "outputs": [],
   "source": [
    "for i, start in enumerate( data[sim]['start'] ):\n",
    "    \n",
    "    print( 'Generating particle group for sightline {:03d}'.format( i ) )\n",
    "\n",
    "    ray_fp = os.path.join( pm['data_dir'], 'sightlines', 'ray_{:03d}.h5'.format( i ) )\n",
    "    ray = yt.load( ray_fp )\n",
    "\n",
    "    ff_gen = trident_firefly.FireflyGenerator()\n",
    "    ray_pg = ff_gen.create_particle_group(\n",
    "        ray,\n",
    "        UIname = 'data{:03d}'.format( i ),\n",
    "        center = sp.center,\n",
    "        coordinate_units = sp.center.units,\n",
    "        lines = ions,\n",
    "    )\n",
    "    guideline_pg = ff_gen.create_particle_group_guideline(\n",
    "        ray,\n",
    "        UIname = 'LOS{:03d}'.format( i ),\n",
    "        center = sp.center,\n",
    "        coordinate_units = sp.center.units,\n",
    "    )\n",
    "\n",
    "    ff_reader.addParticleGroup( ray_pg )\n",
    "    ff_reader.addParticleGroup( guideline_pg )\n",
    "\n",
    "    # # Turn blending off to make the guidelines more visible\n",
    "    # ff_reader.settings['blendingMode'][guideline_pg.UIname] = 'none'\n",
    "    # ff_reader.settings['depthTest'][guideline_pg.UIname] = True"
   ]
  },
  {
   "cell_type": "markdown",
   "id": "4b3830d5-6b92-49db-9268-c0b15d48eaeb",
   "metadata": {},
   "source": [
    "## Finish Up"
   ]
  },
  {
   "cell_type": "code",
   "execution_count": null,
   "id": "6bf56bad-ad73-4728-ab10-6efc7ef5ba9e",
   "metadata": {},
   "outputs": [],
   "source": [
    "# Change limits\n",
    "for field_name, limit in tqdm.tqdm( field_limits.items() ):\n",
    "    for setting in [ 'colormapLims', 'filterLims' ]:\n",
    "        settings_entry = ff_reader.settings[setting]\n",
    "        for ptype, setting_values in settings_entry.items():\n",
    "            if field_name in setting_values:\n",
    "                settings_entry[ptype][field_name] = np.array( limit )"
   ]
  },
  {
   "cell_type": "code",
   "execution_count": null,
   "id": "25ae6aec-7ff4-4c14-bc69-b42cb5598be1",
   "metadata": {},
   "outputs": [],
   "source": [
    "# Turn colormaps on\n",
    "if starting_colormap is not None:\n",
    "    for pg_ in ff_reader.particleGroups:\n",
    "        if starting_colormap in pg_.field_names:\n",
    "            ff_reader.settings['colormapVariable'][pg_.UIname] = int( np.where( pg_.field_names == starting_colormap )[0] )\n",
    "            ff_reader.settings['showColormap'][pg_.UIname] = True"
   ]
  },
  {
   "cell_type": "markdown",
   "id": "d1017745-de0a-473d-b27d-9b5b3d94a63f",
   "metadata": {},
   "source": [
    "## Output to JSON"
   ]
  },
  {
   "cell_type": "code",
   "execution_count": null,
   "id": "8501e03b-ce9c-451a-b663-f796bc5e8df8",
   "metadata": {},
   "outputs": [],
   "source": [
    "ff_reader.writeToDisk(loud=True,symlink=True,file_extension='.json')"
   ]
  },
  {
   "cell_type": "markdown",
   "id": "1b1c295e-f0e5-4cc0-9461-db8704857d21",
   "metadata": {},
   "source": [
    "## Run the Viz Itself"
   ]
  },
  {
   "cell_type": "code",
   "execution_count": null,
   "id": "722c0a69-0feb-4920-8192-223d34e8632e",
   "metadata": {},
   "outputs": [],
   "source": [
    "from firefly.server import spawnFireflyServer, quitAllFireflyServers"
   ]
  },
  {
   "cell_type": "code",
   "execution_count": null,
   "id": "ca99e3c5-1540-406e-9304-cf5dc74078d6",
   "metadata": {},
   "outputs": [],
   "source": [
    "port = 5500\n",
    "\n",
    "# Spawn a server to host the visualization\n",
    "process = spawnFireflyServer(port=port)"
   ]
  },
  {
   "cell_type": "code",
   "execution_count": null,
   "id": "6ba0b94f-da15-4d57-806b-47a896233c20",
   "metadata": {},
   "outputs": [],
   "source": [
    "ff_reader.sendDataViaFlask(port)"
   ]
  },
  {
   "cell_type": "code",
   "execution_count": null,
   "id": "6ab06b4f-93a0-4958-9756-48cdb82ff1eb",
   "metadata": {},
   "outputs": [],
   "source": [
    "quitAllFireflyServers()"
   ]
  }
 ],
 "metadata": {
  "kernelspec": {
   "display_name": "Python 3 (ipykernel)",
   "language": "python",
   "name": "python3"
  },
  "language_info": {
   "codemirror_mode": {
    "name": "ipython",
    "version": 3
   },
   "file_extension": ".py",
   "mimetype": "text/x-python",
   "name": "python",
   "nbconvert_exporter": "python",
   "pygments_lexer": "ipython3",
   "version": "3.9.7"
  }
 },
 "nbformat": 4,
 "nbformat_minor": 5
}
